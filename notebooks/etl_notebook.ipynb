{
 "cells": [
  {
   "cell_type": "code",
   "execution_count": 17,
   "id": "c08238ac",
   "metadata": {},
   "outputs": [],
   "source": [
    "import pandas as pd"
   ]
  },
  {
   "cell_type": "code",
   "execution_count": 18,
   "id": "e33347f2",
   "metadata": {},
   "outputs": [],
   "source": [
    "# Carregar dados\n",
    "selic = pd.read_csv('../data/raw/selic_4189.csv', sep=';', decimal=',', encoding='latin1')\n",
    "credito = pd.read_csv('../data/raw/concessoes_pf_20633.csv', sep=';', decimal=',', encoding='latin1')\n",
    "juros = pd.read_csv('../data/raw/taxa_juros_pf_20716.csv', sep=';', decimal=',', encoding='latin1')"
   ]
  },
  {
   "cell_type": "code",
   "execution_count": 19,
   "id": "ac7b8b10",
   "metadata": {},
   "outputs": [],
   "source": [
    "# Renomear colunas\n",
    "selic.rename(columns={'4189 - Taxa de juros - Selic acumulada no mês anualizada base 252 - % a.a.': 'Selic'}, inplace=True)\n",
    "credito.rename(columns={'20633 - Concessões de crédito - Pessoas físicas - Total - R$ (milhões)': 'Credito'}, inplace=True)\n",
    "juros.rename(columns={'20716 - Taxa média de juros das operações de crédito - Pessoas físicas - Total - % a.a.': 'Juros'}, inplace=True)"
   ]
  },
  {
   "cell_type": "code",
   "execution_count": 20,
   "id": "57aa921e",
   "metadata": {},
   "outputs": [],
   "source": [
    "# Converter caracteres \n",
    "selic.replace(',', '.', regex=True, inplace=True)\n",
    "juros.replace(',', '.', regex=True, inplace=True)"
   ]
  },
  {
   "cell_type": "code",
   "execution_count": 21,
   "id": "b3d0e1fc",
   "metadata": {},
   "outputs": [],
   "source": [
    "# Converter valores para numérico\n",
    "selic['Selic'] = pd.to_numeric(selic['Selic'], errors='coerce')\n",
    "credito['Credito'] = pd.to_numeric(credito['Credito'], errors='coerce')     \n",
    "juros['Juros'] = pd.to_numeric(juros['Juros'], errors='coerce')"
   ]
  },
  {
   "cell_type": "code",
   "execution_count": 22,
   "id": "01c723af",
   "metadata": {},
   "outputs": [],
   "source": [
    "# Remove indices nulos\n",
    "df = selic.dropna(subset=['Selic'], inplace=True)\n",
    "df = juros.dropna(subset=['Juros'], inplace=True)\n",
    "df = credito.dropna(subset=['Credito'], inplace=True)"
   ]
  },
  {
   "cell_type": "code",
   "execution_count": null,
   "id": "1e5a8e8f",
   "metadata": {},
   "outputs": [],
   "source": [
    "# Unir datasets\n",
    "df = selic.merge(juros, on='Data', how='inner')\n",
    "df =  df.merge(credito, on='Data', how='inner')"
   ]
  },
  {
   "cell_type": "code",
   "execution_count": 24,
   "id": "a1bec190",
   "metadata": {},
   "outputs": [],
   "source": [
    "# Salvar dados processados\n",
    "df.to_csv('../data/processed/dados_processados.csv', sep=';',  index=False)"
   ]
  }
 ],
 "metadata": {
  "kernelspec": {
   "display_name": "Python 3",
   "language": "python",
   "name": "python3"
  },
  "language_info": {
   "codemirror_mode": {
    "name": "ipython",
    "version": 3
   },
   "file_extension": ".py",
   "mimetype": "text/x-python",
   "name": "python",
   "nbconvert_exporter": "python",
   "pygments_lexer": "ipython3",
   "version": "3.12.2"
  }
 },
 "nbformat": 4,
 "nbformat_minor": 5
}
